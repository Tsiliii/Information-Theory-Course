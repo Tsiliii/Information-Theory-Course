{
  "nbformat": 4,
  "nbformat_minor": 0,
  "metadata": {
    "colab": {
      "name": "InformationTheory2.ipynb",
      "provenance": [],
      "collapsed_sections": [
        "_PqagvrQe9YX",
        "Y-Lps_Mhn0-_"
      ],
      "toc_visible": true
    },
    "kernelspec": {
      "name": "python3",
      "display_name": "Python 3"
    }
  },
  "cells": [
    {
      "cell_type": "markdown",
      "metadata": {
        "id": "K2wUnQtQe5Cb"
      },
      "source": [
        "# Help Code"
      ]
    },
    {
      "cell_type": "code",
      "metadata": {
        "id": "DXt8l_MtZJyI"
      },
      "source": [
        "import numpy as np\n",
        "\n",
        "def Entropy(probs):\n",
        "  entropy = 0\n",
        "  for i in range(len(probs)):\n",
        "      if probs[i] != 0:\n",
        "          entropy -= probs[i] * np.log2(probs[i])\n",
        "  return round(entropy,3)\n",
        "\n",
        "def KL_distance(Pprobs,Qprobs):\n",
        "  distance = 0\n",
        "  if 0 in Qprobs:\n",
        "      return float('inf')\n",
        "  for i in range(len(Pprobs)):\n",
        "      if Pprobs[i] != 0:\n",
        "          distance += Pprobs[i] * np.log2(Pprobs[i] / Qprobs[i])\n",
        "  return round(distance,3)\n",
        "  \n"
      ],
      "execution_count": null,
      "outputs": []
    },
    {
      "cell_type": "markdown",
      "metadata": {
        "id": "BODtJpZRe00R"
      },
      "source": [
        "# Άσκηση 1\n",
        "\n"
      ]
    },
    {
      "cell_type": "markdown",
      "metadata": {
        "id": "kGyX6MwzpvRx"
      },
      "source": [
        "Useful: http://www.math.cmu.edu/~mlavrov/arml/13-14/sums-01-26-14.pdf"
      ]
    },
    {
      "cell_type": "code",
      "metadata": {
        "colab": {
          "base_uri": "https://localhost:8080/"
        },
        "id": "lR3Z4rHNZMZv",
        "outputId": "d215a9aa-b578-422a-eda7-dbe824ea5860"
      },
      "source": [
        "mysum = 0\n",
        "for i in range(1000):\n",
        "    mysum += (9/10)**i\n",
        "\n",
        "print(\"All probabilities without c sum to,\", mysum)\n",
        "print(\"c =\", 1/mysum)"
      ],
      "execution_count": null,
      "outputs": [
        {
          "output_type": "stream",
          "text": [
            "All probabilities without c sum to, 9.999999999999993\n",
            "c = 0.10000000000000007\n"
          ],
          "name": "stdout"
        }
      ]
    },
    {
      "cell_type": "code",
      "metadata": {
        "colab": {
          "base_uri": "https://localhost:8080/"
        },
        "id": "GAAVrnYVhHRA",
        "outputId": "492e7c87-e9d1-4b3c-edd6-b1b2b8ad94f8"
      },
      "source": [
        "temp = (1-(9/10)**1000) / (1 - 9/10)\n",
        "print(1/temp)"
      ],
      "execution_count": null,
      "outputs": [
        {
          "output_type": "stream",
          "text": [
            "0.09999999999999998\n"
          ],
          "name": "stdout"
        }
      ]
    },
    {
      "cell_type": "code",
      "metadata": {
        "colab": {
          "base_uri": "https://localhost:8080/"
        },
        "id": "WC-FqjqcZhw-",
        "outputId": "81341c87-15cc-47c2-8b10-82e1ed5f71f8"
      },
      "source": [
        "mean = 0\n",
        "for i in range(1000):\n",
        "    mean += i*((9/10)**i)\n",
        "mean = mean / mysum\n",
        "\n",
        "mean_of_x2 = 0\n",
        "for i in range(1000):\n",
        "    mean_of_x2 += ( i ** 2 ) * ( (9/10) ** i ) / mysum\n",
        "\n",
        "variance = mean_of_x2 - (mean ** 2)\n",
        "\n",
        "print(\"Mean =\",mean)\n",
        "print(\"Variance =\",variance)\n",
        "print(\"σ =\",np.sqrt(variance))"
      ],
      "execution_count": null,
      "outputs": [
        {
          "output_type": "stream",
          "text": [
            "Mean = 9.000000000000021\n",
            "Variance = 89.99999999999982\n",
            "σ = 9.486832980505127\n"
          ],
          "name": "stdout"
        }
      ]
    },
    {
      "cell_type": "code",
      "metadata": {
        "colab": {
          "base_uri": "https://localhost:8080/"
        },
        "id": "Yk0KOA6fb-8B",
        "outputId": "e10eb857-8f7f-493d-96cc-d83d1ce8c36f"
      },
      "source": [
        "prob_density = []\n",
        "for i in range(1000):\n",
        "    temp = 1/mysum * ((9/10)**i)\n",
        "    prob_density.append(temp)\n",
        "\n",
        "print(\"Entropy =\",Entropy(prob_density))"
      ],
      "execution_count": null,
      "outputs": [
        {
          "output_type": "stream",
          "text": [
            "Entropy = 4.69\n"
          ],
          "name": "stdout"
        }
      ]
    },
    {
      "cell_type": "markdown",
      "metadata": {
        "id": "_PqagvrQe9YX"
      },
      "source": [
        "# Άσκηση 2"
      ]
    },
    {
      "cell_type": "code",
      "metadata": {
        "colab": {
          "base_uri": "https://localhost:8080/"
        },
        "id": "i2AlObF9fAgN",
        "outputId": "9a5cc8ff-85f6-4e21-fcef-60ed07dfd6e0"
      },
      "source": [
        "Excs2_1_a = [.05,.1,.2,.4,.25]\n",
        "print(\"H(X) =\",Entropy(Excs2_1_a))\n",
        "Excs2_1_b = [.4,0,.2,.1,.3]\n",
        "print(\"H(Y) =\",Entropy(Excs2_1_b))\n",
        "print(\"D(x||y) =\",KL_distance(Excs2_1_a,Excs2_1_b))\n",
        "# yparxei pithanothta 0 opote sumfwna me to vivlio theoroume thn KL metrikh +inf\n",
        "print(\"D(y||x) =\",KL_distance(Excs2_1_b,Excs2_1_a))\n"
      ],
      "execution_count": null,
      "outputs": [
        {
          "output_type": "stream",
          "text": [
            "H(X) = 2.041\n",
            "H(Y) = 1.846\n",
            "D(x||y) = inf\n",
            "D(y||x) = 1.079\n"
          ],
          "name": "stdout"
        }
      ]
    },
    {
      "cell_type": "code",
      "metadata": {
        "colab": {
          "base_uri": "https://localhost:8080/"
        },
        "id": "nAHFRBjw2QK-",
        "outputId": "c70553b1-4f38-431f-8088-d1c729b5a60a"
      },
      "source": [
        "print(KL_distance([1/4,3/4],[1/4,3/4]),KL_distance([3/4,1/4],[1/4,3/4]))"
      ],
      "execution_count": null,
      "outputs": [
        {
          "output_type": "stream",
          "text": [
            "0.0 0.792\n"
          ],
          "name": "stdout"
        }
      ]
    },
    {
      "cell_type": "markdown",
      "metadata": {
        "id": "oaIt87XT1CGs"
      },
      "source": [
        "# Άσκηση 3\n",
        "\n"
      ]
    },
    {
      "cell_type": "code",
      "metadata": {
        "colab": {
          "base_uri": "https://localhost:8080/"
        },
        "id": "y84N4kyf1G9_",
        "outputId": "0c2a8358-3297-47a4-970e-cd0dab9865a0"
      },
      "source": [
        "temp = []\n",
        "for i in range(32):\n",
        "    temp.append(1/32)\n",
        "print(\"Entropy for place 1 =\",Entropy(temp))\n",
        "for i in range(1,32):\n",
        "  print(\"Entropy for place\",i+1,\"=\",Entropy([i/32,1-i/32]))"
      ],
      "execution_count": null,
      "outputs": [
        {
          "output_type": "stream",
          "text": [
            "Entropy for place 1 = 5.0\n",
            "Entropy for place 2 = 0.201\n",
            "Entropy for place 3 = 0.337\n",
            "Entropy for place 4 = 0.449\n",
            "Entropy for place 5 = 0.544\n",
            "Entropy for place 6 = 0.625\n",
            "Entropy for place 7 = 0.696\n",
            "Entropy for place 8 = 0.758\n",
            "Entropy for place 9 = 0.811\n",
            "Entropy for place 10 = 0.857\n",
            "Entropy for place 11 = 0.896\n",
            "Entropy for place 12 = 0.928\n",
            "Entropy for place 13 = 0.954\n",
            "Entropy for place 14 = 0.974\n",
            "Entropy for place 15 = 0.989\n",
            "Entropy for place 16 = 0.997\n",
            "Entropy for place 17 = 1.0\n",
            "Entropy for place 18 = 0.997\n",
            "Entropy for place 19 = 0.989\n",
            "Entropy for place 20 = 0.974\n",
            "Entropy for place 21 = 0.954\n",
            "Entropy for place 22 = 0.928\n",
            "Entropy for place 23 = 0.896\n",
            "Entropy for place 24 = 0.857\n",
            "Entropy for place 25 = 0.811\n",
            "Entropy for place 26 = 0.758\n",
            "Entropy for place 27 = 0.696\n",
            "Entropy for place 28 = 0.625\n",
            "Entropy for place 29 = 0.544\n",
            "Entropy for place 30 = 0.449\n",
            "Entropy for place 31 = 0.337\n",
            "Entropy for place 32 = 0.201\n"
          ],
          "name": "stdout"
        }
      ]
    },
    {
      "cell_type": "markdown",
      "metadata": {
        "id": "Y-Lps_Mhn0-_"
      },
      "source": [
        "# Άσκηση 4"
      ]
    },
    {
      "cell_type": "code",
      "metadata": {
        "colab": {
          "base_uri": "https://localhost:8080/"
        },
        "id": "eQ3R1aLLfrQJ",
        "outputId": "23eb14cc-1977-4152-dbae-ce8adbba71a6"
      },
      "source": [
        "probs = []\n",
        "values = []\n",
        "probs.append(round(.8**5,5))\n",
        "values.append(round(.55**5,5))\n",
        "probs.append(round(5 * (.8 ** 4) * (.2 ** 1),5))\n",
        "values.append(round(.55**4 * .6 ** 1,5))\n",
        "probs.append(round(10 * (.8 ** 3) * (.2 ** 2),5))\n",
        "values.append(round(.55**3 * .6 ** 2,5))\n",
        "probs.append(round(10 * (.8 ** 2) * (.2 ** 3),5))\n",
        "values.append(round(.55**2 * .6 ** 3,5))\n",
        "probs.append(round(5 * (.8 ** 1) * (.2 ** 4),5))\n",
        "values.append(round(.55**1 * .6 ** 4,5))\n",
        "probs.append(round(.2**5,5))\n",
        "values.append(round(.6 ** 5,5))\n",
        "print(values)\n",
        "print(probs)\n",
        "print(sum(probs))"
      ],
      "execution_count": null,
      "outputs": [
        {
          "output_type": "stream",
          "text": [
            "[0.05033, 0.0549, 0.0599, 0.06534, 0.07128, 0.07776]\n",
            "[0.32768, 0.4096, 0.2048, 0.0512, 0.0064, 0.00032]\n",
            "1.0\n"
          ],
          "name": "stdout"
        }
      ]
    },
    {
      "cell_type": "code",
      "metadata": {
        "colab": {
          "base_uri": "https://localhost:8080/",
          "height": 329
        },
        "id": "XFkuQL6yJgzN",
        "outputId": "e7d75d1c-503d-4a60-d7bd-bdcf7f569a5b"
      },
      "source": [
        "import matplotlib.pyplot as plt\n",
        "\n",
        "# Make a fake dataset:\n",
        "y_pos = np.arange(len(probs))\n",
        "\n",
        "# Create bars\n",
        "plt.bar(y_pos, probs)\n",
        " \n",
        "# Create names on the x-axis\n",
        "plt.xticks(y_pos, values)\n",
        "\n",
        "# fig.suptitle('test title')\n",
        "plt.xlabel('Cake Percentage')\n",
        "plt.ylabel('Probability')\n",
        "plt.title(\"Cake Problem Distribution\")\n",
        "plt.savefig(\"cake.jpg\")\n",
        "# Show graphic\n",
        "plt.show()\n",
        "\n",
        "print(\"Entropy of the problem =\",Entropy(probs))\n",
        "mean_cake = 0\n",
        "for i in range(5):\n",
        "    mean_cake += values[i] * probs[i]\n",
        "\n",
        "print(\"Average cake size =\",round(mean_cake,8))\n",
        "\n"
      ],
      "execution_count": null,
      "outputs": [
        {
          "output_type": "display_data",
          "data": {
            "image/png": "[encoded data removed]",
            "text/plain": [
              "<Figure size 432x288 with 1 Axes>"
            ]
          },
          "metadata": {
            "tags": [],
            "needs_background": "light"
          }
        },
        {
          "output_type": "stream",
          "text": [
            "Entropy of the problem = 1.793\n",
            "Average cake size = 0.05504829\n"
          ],
          "name": "stdout"
        }
      ]
    },
    {
      "cell_type": "code",
      "metadata": {
        "id": "wUKh8-nUXdTd"
      },
      "source": [
        ""
      ],
      "execution_count": null,
      "outputs": []
    }
  ]
}