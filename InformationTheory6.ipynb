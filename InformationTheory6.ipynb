{
 "cells": [
  {
   "cell_type": "markdown",
   "metadata": {
    "id": "K2wUnQtQe5Cb"
   },
   "source": [
    "# Help Code"
   ]
  },
  {
   "cell_type": "code",
   "execution_count": 1,
   "metadata": {
    "id": "DXt8l_MtZJyI"
   },
   "outputs": [],
   "source": [
    "import numpy as np\n",
    "from scipy.special import comb\n",
    "\n",
    "from scipy.stats import multinomial\n",
    "from numpy import math \n",
    "def fact(x):\n",
    "    return math.factorial(x)\n",
    "    \n",
    "def Entropy(probs):\n",
    "  entropy = 0\n",
    "  for i in range(len(probs)):\n",
    "      if probs[i] != 0:\n",
    "          entropy -= probs[i] * np.log2(probs[i])\n",
    "  return round(entropy,3)\n",
    "\n",
    "def KL_distance(Pprobs,Qprobs):\n",
    "  distance = 0\n",
    "  if 0 in Qprobs:\n",
    "      return float('inf')\n",
    "  for i in range(len(Pprobs)):\n",
    "      if Pprobs[i] != 0:\n",
    "          distance += Pprobs[i] * np.log2(Pprobs[i] / Qprobs[i])\n",
    "  return round(distance,3)\n",
    "  \n",
    "def Entropy_rate(probs, stationary_dist):\n",
    "    rate = 0\n",
    "    for i in range(len(probs)):\n",
    "        if probs[i] != 0:\n",
    "            rate -= stationary_dist[i] * probs[i] * np.log2(probs[i])\n",
    "    return round(rate,3)"
   ]
  },
  {
   "cell_type": "markdown",
   "metadata": {
    "id": "BODtJpZRe00R"
   },
   "source": [
    "# Άσκηση 1\n",
    "\n"
   ]
  },
  {
   "cell_type": "code",
   "execution_count": 2,
   "metadata": {
    "colab": {
     "base_uri": "https://localhost:8080/"
    },
    "id": "GlUc4ZPka_dz",
    "outputId": "18708bb2-74b1-4ca9-90c1-030df284ab71"
   },
   "outputs": [
    {
     "name": "stdout",
     "output_type": "stream",
     "text": [
      "Probabilty of less money 0.104\n",
      "Probabilty of doubling the money 0.441\n",
      "Doubling rate 0.16666666666666669\n",
      "Expected final money pool = 3174.802\n",
      "Probability of losing money = 0.159\n",
      "Probability of doubling money = 0.707\n"
     ]
    }
   ],
   "source": [
    "less_money = (2/3) **10 + 10 * (1/3) * (2/3)** 9\n",
    "print(\"Probabilty of less money\",round(less_money,3))\n",
    "\n",
    "double_money = 0\n",
    "for i in range(4):\n",
    "    double_money += comb(10,i) * (1/3) ** i * (2/3) ** (10-i)\n",
    "print(\"Probabilty of doubling the money\",round(1 - double_money,3))\n",
    "Doubling_rate = 0\n",
    "probs = [1/3,1/6,1/6,1/6,1/12,1/12]\n",
    "rate = 6\n",
    "for p in probs:\n",
    "    Doubling_rate += p * np.log2(p*rate)\n",
    "\n",
    "print(\"Doubling rate\", Doubling_rate)\n",
    "print(\"Expected final money pool =\", round(2 **(10 * Doubling_rate) *1000,3))\n",
    "\n",
    "\n",
    "answer = 0\n",
    "for x in range(11):\n",
    "    for y in range(11):\n",
    "        for z in range(11):\n",
    "            if (x+y+z == 10 and x < z):\n",
    "                # print(x,y,z,fact(10) / (fact(x) * fact(y) * fact(z)) * (1/3) ** x * (1/2) ** y * (1/6) ** z)\n",
    "                answer += fact(10) / (fact(x) * fact(y) * fact(z)) * (1/3) ** x * (1/2) ** y * (1/6) ** z\n",
    "print(\"Probability of losing money =\",round(answer,3))\n",
    "\n",
    "answer = 0\n",
    "\n",
    "for x in range(11):\n",
    "    for y in range(11):\n",
    "        for z in range(11):\n",
    "            if (x+y+z == 10 and x > z ):\n",
    "                # print(x,y,z,fact(10) / (fact(x) * fact(y) * fact(z)) * (1/3) ** x * (1/2) ** y * (1/6) ** z)\n",
    "                answer += fact(10) / (fact(x) * fact(y) * fact(z)) * (1/3) ** x * (1/2) ** y * (1/6) ** z\n",
    "print(\"Probability of doubling money =\",round(answer,3))"
   ]
  },
  {
   "cell_type": "code",
   "execution_count": 3,
   "metadata": {
    "colab": {
     "base_uri": "https://localhost:8080/"
    },
    "id": "zb5WA-BzLHEn",
    "outputId": "4edf6ded-a0ff-471a-fa9c-146a8e8f8812"
   },
   "outputs": [
    {
     "name": "stdout",
     "output_type": "stream",
     "text": [
      "Doubling rate 0.11871460340842512\n",
      "Expected final money pool = 2277.019\n",
      "Probability of losing money = 0.299\n",
      "Probability of doubling money = 0.441\n"
     ]
    }
   ],
   "source": [
    "Doubling_rate = 0\n",
    "probs = [1/3,1/6,1/6,1/6,1/12,1/12]\n",
    "rate = 6\n",
    "b = [1/3,2/15,2/15,2/15,2/15,2/15,2/15]\n",
    "for i in range(6):\n",
    "    Doubling_rate += probs[i] * np.log2(b[i]*rate)\n",
    "\n",
    "print(\"Doubling rate\", Doubling_rate)\n",
    "print(\"Expected final money pool =\", round(2 **(10 * Doubling_rate) *1000,3))\n",
    "\n",
    "\n",
    "answer = 0\n",
    "n = 10\n",
    "for k in range(3):\n",
    "    answer += fact(10) / (fact(k) * fact(n-k)) * (1/3) ** k * (2/3) ** (n-k) \n",
    "print(\"Probability of losing money =\",round(answer,3))\n",
    "\n",
    "answer = 0\n",
    "\n",
    "for k in range(4,11):\n",
    "    answer += fact(10) / (fact(k) * fact(n-k)) * (1/3) ** k * (2/3) ** (n-k) \n",
    "\n",
    "print(\"Probability of doubling money =\",round(answer,3))"
   ]
  },
  {
   "cell_type": "markdown",
   "metadata": {
    "id": "ZaxC7UltSI6H"
   },
   "source": [
    "# Άσκηση 2\n",
    "\n"
   ]
  },
  {
   "cell_type": "code",
   "execution_count": 109,
   "metadata": {
    "colab": {
     "base_uri": "https://localhost:8080/"
    },
    "id": "GBRm2467SI6P",
    "outputId": "d34557b6-b708-4f59-c1e5-17291147dc1e"
   },
   "outputs": [
    {
     "name": "stdout",
     "output_type": "stream",
     "text": [
      "1.0\n",
      "Doubling rate -0.2122824731751466\n",
      "Expected final money pool = 0.23\n",
      "\n",
      "Best parameters for the optimization problem 0.9330016986272915 0.0 0.04464381552006122 0.011211087442910815 0.011143398409736764 0.0 0.0\n",
      "Doubling rate -0.0063376260273261265\n",
      "Expected final money pool = 0.957\n"
     ]
    }
   ],
   "source": [
    "import scipy\n",
    "from scipy.optimize import LinearConstraint\n",
    "\n",
    "def max_fun(x):\n",
    "    probs = [1/4,1/5,1/6,23/180,23/180,23/180]\n",
    "    rate = [3,6,6,8,5,5]\n",
    "    answer = 0\n",
    "    for i in range(1,x.shape[0]):\n",
    "        answer += probs[i-1] * np.log2(x[0] + x[i] * rate[i-1])\n",
    "    return -1 * answer\n",
    "\n",
    "\n",
    "Doubling_rate = 0\n",
    "probs = [1/4,1/5,1/6,23/180,23/180,23/180]\n",
    "print(sum(probs))\n",
    "rate = [3,6,6,8,5,5]\n",
    "for i in range(6):\n",
    "    Doubling_rate += probs[i] * np.log2(probs[i]*rate[i])\n",
    "print(\"Doubling rate\", Doubling_rate)\n",
    "print(\"Expected final money pool =\", round(2 **(10 * Doubling_rate),3))\n",
    "print()\n",
    "cons = ({'type': 'ineq', 'fun': lambda x: -x[0] - 2 * x[1] + 6},\n",
    "        {'type': 'ineq', 'fun': lambda x: -x[0] + 2 * x[1] + 2})\n",
    "linear_constraint = LinearConstraint(np.ones(7), [1], [1])\n",
    "\n",
    "a = scipy.optimize.minimize(max_fun,[1/7,1/7,1/7,1/7,1/7,1/7,1/7],bounds=((0,1),(0,1),(0,1),(0,1),(0,1),(0,1),(0,1)),constraints=linear_constraint)\n",
    "print(\"Best parameters for the optimization problem\",a.x[0],a.x[1],a.x[2],a.x[3],a.x[4],a.x[5],a.x[6])\n",
    "\n",
    "Doubling_rate = max_fun(a.x)\n",
    "print(\"Doubling rate\", Doubling_rate)\n",
    "print(\"Expected final money pool =\", round(2 **(10 * Doubling_rate),3))\n"
   ]
  }
 ],
 "metadata": {
  "colab": {
   "collapsed_sections": [],
   "name": "InformationTheory6.ipynb",
   "provenance": []
  },
  "kernelspec": {
   "display_name": "Python 3",
   "language": "python",
   "name": "python3"
  },
  "language_info": {
   "codemirror_mode": {
    "name": "ipython",
    "version": 3
   },
   "file_extension": ".py",
   "mimetype": "text/x-python",
   "name": "python",
   "nbconvert_exporter": "python",
   "pygments_lexer": "ipython3",
   "version": "3.7.6"
  }
 },
 "nbformat": 4,
 "nbformat_minor": 1
}
