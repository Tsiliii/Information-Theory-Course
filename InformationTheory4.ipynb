{
  "nbformat": 4,
  "nbformat_minor": 0,
  "metadata": {
    "colab": {
      "name": "InformationTheory4.ipynb",
      "provenance": [],
      "collapsed_sections": [],
      "toc_visible": true
    },
    "kernelspec": {
      "name": "python3",
      "display_name": "Python 3"
    }
  },
  "cells": [
    {
      "cell_type": "markdown",
      "metadata": {
        "id": "K2wUnQtQe5Cb"
      },
      "source": [
        "# Help Code"
      ]
    },
    {
      "cell_type": "code",
      "metadata": {
        "id": "DXt8l_MtZJyI"
      },
      "source": [
        "import numpy as np\n",
        "from scipy.special import comb\n",
        "import matplotlib.pyplot as plt\n",
        "\n",
        "def Entropy(probs):\n",
        "  entropy = 0\n",
        "  for i in range(len(probs)):\n",
        "      if probs[i] != 0:\n",
        "          entropy -= probs[i] * np.log2(probs[i])\n",
        "  return round(entropy,3)\n",
        "\n",
        "def KL_distance(Pprobs,Qprobs):\n",
        "  distance = 0\n",
        "  if 0 in Qprobs:\n",
        "      return float('inf')\n",
        "  for i in range(len(Pprobs)):\n",
        "      if Pprobs[i] != 0:\n",
        "          distance += Pprobs[i] * np.log2(Pprobs[i] / Qprobs[i])\n",
        "  return round(distance,3)\n",
        "  \n",
        "def Entropy_rate(probs, stationary_dist):\n",
        "    rate = 0\n",
        "    for i in range(len(probs)):\n",
        "        for j in range(len(probs[i])):\n",
        "            if probs[i] != 0:\n",
        "                rate -= stationary_dist[i] * probs[i][j] * np.log2(probs[i][j])\n",
        "                # print(stationary_dist[i],probs[i][j] * np.log2(probs[i][j]))\n",
        "    return round(rate,3)"
      ],
      "execution_count": 16,
      "outputs": []
    },
    {
      "cell_type": "markdown",
      "metadata": {
        "id": "BODtJpZRe00R"
      },
      "source": [
        "# Άσκηση 1\n",
        "\n"
      ]
    },
    {
      "cell_type": "code",
      "metadata": {
        "colab": {
          "base_uri": "https://localhost:8080/"
        },
        "id": "IG2PlOxstA4P",
        "outputId": "eaee9ee7-ec32-419e-8c62-9469d576a190"
      },
      "source": [
        "stationary_dist = [90/211,100/211,21/211]\r\n",
        "print(\"Entropy = \",Entropy(stationary_dist))\r\n",
        "probs = [[7/10,2/10,1/10],[4/20,15/20,1/20],[1/3,1/3,1/3]]\r\n",
        "print(\"Entropy rate = \",Entropy_rate(probs, stationary_dist))"
      ],
      "execution_count": 63,
      "outputs": [
        {
          "output_type": "stream",
          "text": [
            "Entropy =  1.366\n",
            "Entropy rate =  1.121\n"
          ],
          "name": "stdout"
        }
      ]
    },
    {
      "cell_type": "markdown",
      "metadata": {
        "id": "5L5eN6wdSzKW"
      },
      "source": [
        "# Άσκηση 2\n",
        "\n",
        "\n",
        "\n",
        "\n"
      ]
    },
    {
      "cell_type": "code",
      "metadata": {
        "colab": {
          "base_uri": "https://localhost:8080/",
          "height": 482
        },
        "id": "ZAW2HvBmu3sC",
        "outputId": "5ae41395-918e-4637-b820-38cccb3804d9"
      },
      "source": [
        "state = np.array([0,1,0])\r\n",
        "probs = np.array([[7/10,2/10,1/10],[4/20,15/20,1/20],[1/3,1/3,1/3]])\r\n",
        "x, y, z = [0], [1], [0]\r\n",
        "for i in range(10):\r\n",
        "    state = np.dot(state,probs)\r\n",
        "    print(state)\r\n",
        "    x.append(state[0])\r\n",
        "    y.append(state[1])\r\n",
        "    z.append(state[2])\r\n",
        "time = np.linspace(0,10,11)\r\n",
        "print(len(x),len(time))\r\n",
        "plt.scatter(time,x,c = 'r',alpha = .3,label = 'P{X = 1}')\r\n",
        "plt.scatter(time,y,c = 'g',alpha = .3,label = 'P{X = 2}')\r\n",
        "plt.scatter(time,z,c = 'b',alpha = .3,label = 'P{X = 3}')\r\n",
        "plt.title('Probability of any state through time')\r\n",
        "plt.xlabel('Time')\r\n",
        "plt.ylabel('Probability')\r\n",
        "plt.legend()\r\n",
        "plt.show()"
      ],
      "execution_count": 68,
      "outputs": [
        {
          "output_type": "stream",
          "text": [
            "[0.2  0.75 0.05]\n",
            "[0.30666667 0.61916667 0.07416667]\n",
            "[0.36322222 0.55043056 0.08634722]\n",
            "[0.39312407 0.51424977 0.09262616]\n",
            "[0.40891219 0.49518753 0.09590028]\n",
            "[0.4172428  0.48513984 0.09761736]\n",
            "[0.42163705 0.47984256 0.09852039]\n",
            "[0.42395458 0.47704946 0.09899596]\n",
            "[0.42517675 0.47557667 0.09924659]\n",
            "[0.42582125 0.47480004 0.0993787 ]\n",
            "11 11\n"
          ],
          "name": "stdout"
        },
        {
          "output_type": "display_data",
          "data": {
            "image/png": "[encoded data removed]",
            "text/plain": [
              "<Figure size 432x288 with 1 Axes>"
            ]
          },
          "metadata": {
            "tags": [],
            "needs_background": "light"
          }
        }
      ]
    },
    {
      "cell_type": "code",
      "metadata": {
        "colab": {
          "base_uri": "https://localhost:8080/",
          "height": 465
        },
        "id": "F1e5ND5mvE-9",
        "outputId": "2314f61d-9c22-4c05-dbc1-0eef2e12e712"
      },
      "source": [
        "from scipy.interpolate import make_interp_spline, BSpline\r\n",
        "\r\n",
        "Entropy_time = [Entropy([0,1,0])]\r\n",
        "for i in range(1,11):\r\n",
        "    Entropy_time.append(Entropy([x[i],y[i],z[i]]))\r\n",
        "    print(Entropy([x[i],y[i],z[i]]))\r\n",
        "    # print([x[i]* 211,y[i] * 211,z[i] * 211])\r\n",
        "xnew = np.linspace(0, 11 - 1, 5 * 11)\r\n",
        "spl = make_interp_spline(time, Entropy_time, k=5)\r\n",
        "Entropy_time_smooth = spl(xnew)\r\n",
        "\r\n",
        "plt.plot(xnew, Entropy_time_smooth, label='Spline')\r\n",
        "\r\n",
        "plt.scatter(time,Entropy_time,c = 'black')\r\n",
        "plt.title(\"Entropy through time\")\r\n",
        "plt.xlabel('Time')\r\n",
        "plt.ylabel('Entropy')\r\n",
        "plt.show()"
      ],
      "execution_count": 71,
      "outputs": [
        {
          "output_type": "stream",
          "text": [
            "0.992\n",
            "1.23\n",
            "1.31\n",
            "1.341\n",
            "1.354\n",
            "1.36\n",
            "1.363\n",
            "1.365\n",
            "1.365\n",
            "1.366\n"
          ],
          "name": "stdout"
        },
        {
          "output_type": "display_data",
          "data": {
            "image/png": "[encoded data removed]",
            "text/plain": [
              "<Figure size 432x288 with 1 Axes>"
            ]
          },
          "metadata": {
            "tags": [],
            "needs_background": "light"
          }
        }
      ]
    },
    {
      "cell_type": "code",
      "metadata": {
        "id": "lYuX2VUqzNpO"
      },
      "source": [
        "# from scipy.interpolate import make_interp_spline, BSpline\r\n",
        "\r\n",
        "# rate = [Entropy([0,1,0])]\r\n",
        "# for i in range(1,11):\r\n",
        "#     rate.append( i / (i + 1) * Entropy([x[i],y[i],z[i]]) * rate[i-1])\r\n",
        "\r\n",
        "# print(len(rate))\r\n",
        "# xnew = np.linspace(0, 11 - 1, 5 * 11)\r\n",
        "# spl = make_interp_spline(time, rate, k=5)\r\n",
        "# rate_smooth = spl(xnew)|\r\n",
        "\r\n",
        "# plt.plot(xnew, rate_smooth, label='Spline')\r\n",
        "\r\n",
        "# plt.scatter(time,rate,c = 'black')\r\n",
        "# plt.title(\"Entropy rate through time\")\r\n",
        "# plt.xlabel('Time')\r\n",
        "# plt.ylabel('Entropy rate')\r\n",
        "# plt.show()"
      ],
      "execution_count": 81,
      "outputs": []
    }
  ]
}