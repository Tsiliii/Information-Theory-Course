{
 "cells": [
  {
   "cell_type": "markdown",
   "metadata": {
    "id": "K2wUnQtQe5Cb"
   },
   "source": [
    "# Help Code"
   ]
  },
  {
   "cell_type": "code",
   "execution_count": 1,
   "metadata": {
    "id": "DXt8l_MtZJyI"
   },
   "outputs": [],
   "source": [
    "import numpy as np\n",
    "from scipy.special import comb\n",
    "import matplotlib.pyplot as plt\n",
    "\n",
    "def Entropy(probs):\n",
    "  entropy = 0\n",
    "  for i in range(len(probs)):\n",
    "      if probs[i] != 0:\n",
    "          entropy -= probs[i] * np.log2(probs[i])\n",
    "  return round(entropy,3)\n",
    "\n",
    "def KL_distance(Pprobs,Qprobs):\n",
    "  distance = 0\n",
    "  if 0 in Qprobs:\n",
    "      return float('inf')\n",
    "  for i in range(len(Pprobs)):\n",
    "      if Pprobs[i] != 0:\n",
    "          distance += Pprobs[i] * np.log2(Pprobs[i] / Qprobs[i])\n",
    "  return round(distance,3)\n",
    "  \n",
    "def Entropy_rate(probs, stationary_dist):\n",
    "    rate = 0\n",
    "    for i in range(len(probs)):\n",
    "        for j in range(len(probs[i])):\n",
    "            if probs[i] != 0:\n",
    "                rate -= stationary_dist[i] * probs[i][j] * np.log2(probs[i][j])\n",
    "                # print(stationary_dist[i],probs[i][j] * np.log2(probs[i][j]))\n",
    "    return round(rate,3)"
   ]
  },
  {
   "cell_type": "markdown",
   "metadata": {
    "id": "BODtJpZRe00R"
   },
   "source": [
    "# Άσκηση 1\n",
    "\n"
   ]
  },
  {
   "cell_type": "code",
   "execution_count": 2,
   "metadata": {
    "colab": {
     "base_uri": "https://localhost:8080/"
    },
    "id": "IG2PlOxstA4P",
    "outputId": "f361c322-2cf6-4f2c-c97c-578bb5a442a5"
   },
   "outputs": [
    {
     "name": "stdout",
     "output_type": "stream",
     "text": [
      "Entropy =  2.083\n",
      "L =  3.275\n",
      "New L =  2.333\n",
      "Huffman L =  2.217\n"
     ]
    }
   ],
   "source": [
    "probs = [1/3,1/4,1/5,23/120,1/40]\n",
    "print(\"Entropy = \",Entropy(probs))\n",
    "L = 0\n",
    "lengths = [3,4,3,3,4]\n",
    "for i in range(5):\n",
    "    L += lengths[i] * probs[i]\n",
    "print(\"L = \", round(L,3))\n",
    "\n",
    "newlengths = [1,3,3,3,3]\n",
    "newL = 0\n",
    "for i in range(5):\n",
    "    newL += newlengths[i] * probs[i]\n",
    "print(\"New L = \", round(newL,3))\n",
    "\n",
    "HuffL = 0\n",
    "Hufflengths = [2,2,2,3,3]\n",
    "for i in range(5):\n",
    "    HuffL += Hufflengths[i] * probs[i]\n",
    "print(\"Huffman L = \", round(HuffL,3))\n"
   ]
  },
  {
   "cell_type": "markdown",
   "metadata": {
    "id": "5L5eN6wdSzKW"
   },
   "source": [
    "# Άσκηση 2\n",
    "\n",
    "\n",
    "\n",
    "\n"
   ]
  },
  {
   "cell_type": "code",
   "execution_count": 3,
   "metadata": {
    "colab": {
     "base_uri": "https://localhost:8080/"
    },
    "id": "ZAW2HvBmu3sC",
    "outputId": "acad2f5c-3efe-4581-8509-cc57e67c4fe9"
   },
   "outputs": [
    {
     "name": "stdout",
     "output_type": "stream",
     "text": [
      "Entropy =  2.442\n",
      "L =  2.5\n",
      "For 6 words L =  2.37 Entropy =  2.312\n",
      "For 5 words L =  2.2 Entropy =  2.143\n",
      "For 4 words L =  1.97 Entropy =  1.915\n",
      "For 3 words L =  1.6 Entropy =  1.547\n",
      "For 2 words L =  1.0 Entropy =  0.971\n"
     ]
    }
   ],
   "source": [
    "probs = [.4,.2,.1,.09,.08,.07,.06]\n",
    "print(\"Entropy = \",Entropy(probs))\n",
    "L = 0\n",
    "lengths = [1,3,3,4,4,4,4]\n",
    "for i in range(7):\n",
    "    L += lengths[i] * probs[i]\n",
    "print(\"L = \", round(L,3))\n",
    "\n",
    "lenghts6 = [1,3,3,3,4,4]\n",
    "lenghts5 = [1,3,3,3,3]\n",
    "lenghts4 = [1,2,3,3]\n",
    "lenghts3 = [1,2,2]\n",
    "lenghts2 = [1,1]\n",
    "probs6 = [.4,.2,.13,.1,.08,.09]\n",
    "probs5 = [.4,.2,.17,.13,.1,]\n",
    "probs4 = [.4,.23,.2,.17]\n",
    "probs3 = [.4,.37,.23]\n",
    "probs2 = [.6,.4]\n",
    "\n",
    "long_lengths = [lenghts6,lenghts5,lenghts4,lenghts3,lenghts2]\n",
    "long_probs = [probs6,probs5,probs4,probs3,probs2]\n",
    "for j in range(5):\n",
    "    L = 0 \n",
    "    for i in range(6-j):\n",
    "        L += long_lengths[j][i] * long_probs[j][i]\n",
    "    print(\"For\",6-j,\"words L = \", round(L,3),\"Entropy = \",Entropy(long_probs[j]))"
   ]
  },
  {
   "cell_type": "markdown",
   "metadata": {
    "id": "x41NZKnVfvWe"
   },
   "source": [
    "# Άσκηση 3\n",
    "\n",
    "\n",
    "\n",
    "\n"
   ]
  },
  {
   "cell_type": "code",
   "execution_count": 4,
   "metadata": {
    "colab": {
     "base_uri": "https://localhost:8080/"
    },
    "id": "34DmBgkXfvWm",
    "outputId": "d5d04b44-48ff-430a-fc24-d9129d039c2a"
   },
   "outputs": [
    {
     "name": "stdout",
     "output_type": "stream",
     "text": [
      "Entropy =  2.072\n",
      "L =  2.094\n"
     ]
    }
   ],
   "source": [
    "probs = [6,14,24,54,56,126,216,504]\n",
    "probs = [i/1000 for i in probs]\n",
    "print(\"Entropy = \",Entropy(probs))\n",
    "lengths = [7,7,6,4,5,3,2,1]\n",
    "L = 0\n",
    "for i in range(8):\n",
    "    L += lengths[i] * probs[i]\n",
    "print(\"L = \", round(L,3))\n"
   ]
  }
 ],
 "metadata": {
  "colab": {
   "collapsed_sections": [],
   "name": "InformationTheory5.ipynb",
   "provenance": [],
   "toc_visible": true
  },
  "kernelspec": {
   "display_name": "Python 3",
   "language": "python",
   "name": "python3"
  },
  "language_info": {
   "codemirror_mode": {
    "name": "ipython",
    "version": 3
   },
   "file_extension": ".py",
   "mimetype": "text/x-python",
   "name": "python",
   "nbconvert_exporter": "python",
   "pygments_lexer": "ipython3",
   "version": "3.7.6"
  }
 },
 "nbformat": 4,
 "nbformat_minor": 1
}
