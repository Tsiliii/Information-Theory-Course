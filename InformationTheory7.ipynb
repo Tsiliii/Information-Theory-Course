{
 "cells": [
  {
   "cell_type": "markdown",
   "metadata": {
    "id": "K2wUnQtQe5Cb"
   },
   "source": [
    "# Help Code"
   ]
  },
  {
   "cell_type": "code",
   "execution_count": 2,
   "metadata": {
    "id": "DXt8l_MtZJyI"
   },
   "outputs": [],
   "source": [
    "import numpy as np\n",
    "from scipy.special import comb\n",
    "import matplotlib.pyplot as plt\n",
    "\n",
    "from scipy.stats import multinomial\n",
    "from numpy import math \n",
    "\n",
    "def fact(x):\n",
    "    return math.factorial(x)\n",
    "    \n",
    "def Entropy(probs):\n",
    "  entropy = 0\n",
    "  for i in range(len(probs)):\n",
    "      if probs[i] != 0:\n",
    "          entropy -= probs[i] * np.log2(probs[i])\n",
    "  return round(entropy,3)\n",
    "\n",
    "def KL_distance(Pprobs,Qprobs):\n",
    "  distance = 0\n",
    "  if 0 in Qprobs:\n",
    "      return float('inf')\n",
    "  for i in range(len(Pprobs)):\n",
    "      if Pprobs[i] != 0:\n",
    "          distance += Pprobs[i] * np.log2(Pprobs[i] / Qprobs[i])\n",
    "  return round(distance,3)\n",
    "  \n",
    "def Entropy_rate(probs, stationary_dist):\n",
    "    rate = 0\n",
    "    for i in range(len(probs)):\n",
    "        if probs[i] != 0:\n",
    "            rate -= stationary_dist[i] * probs[i] * np.log2(probs[i])\n",
    "    return round(rate,3)"
   ]
  },
  {
   "cell_type": "markdown",
   "metadata": {
    "id": "BODtJpZRe00R"
   },
   "source": [
    "# Άσκηση 1\n",
    "\n"
   ]
  },
  {
   "cell_type": "code",
   "execution_count": 41,
   "metadata": {
    "colab": {
     "base_uri": "https://localhost:8080/",
     "height": 332
    },
    "id": "4ZiE3nhGEQBL",
    "outputId": "850a4074-fdbe-4e23-e765-5449b82fdd6f"
   },
   "outputs": [
    {
     "name": "stdout",
     "output_type": "stream",
     "text": [
      "0.469\n",
      "maximum = 4.600239408398999\n",
      "maximum π = 0.17171717171717174\n"
     ]
    },
    {
     "data": {
      "image/png": "[encoded data removed]",
      "text/plain": [
       "<Figure size 432x288 with 1 Axes>"
      ]
     },
     "metadata": {
      "needs_background": "light",
      "tags": []
     },
     "output_type": "display_data"
    }
   ],
   "source": [
    "y_given_x = Entropy([1/10,9/10])\n",
    "x = np.linspace(0,1,100)\n",
    "y = []\n",
    "for p in x:\n",
    "    H_Y = 0\n",
    "    if (1 - p > 0):\n",
    "        H_Y -= 20 * (1-p) / 20 * np.log2((1-p) / 20)\n",
    "    if (p > 0):\n",
    "        H_Y -= 5  * 9 * p / 50 * np.log2(9 * p / 50)\n",
    "        H_Y -= 1  * 5 * p / 50 * np.log2(5 * p / 50)\n",
    "    y.append(H_Y - p * y_given_x)\n",
    "print(y_given_x)\n",
    "print(\"maximum =\",np.amax(y))\n",
    "print(\"maximum π =\",x[np.argmax(y)])\n",
    "plt.title(\"I(X;Y) for π in [0,1]\")\n",
    "\n",
    "plt.plot(x,y)\n",
    "plt.show()"
   ]
  },
  {
   "cell_type": "markdown",
   "metadata": {
    "id": "ZaxC7UltSI6H"
   },
   "source": [
    "# Άσκηση 2\n",
    "\n"
   ]
  },
  {
   "cell_type": "code",
   "execution_count": 43,
   "metadata": {
    "colab": {
     "base_uri": "https://localhost:8080/",
     "height": 315
    },
    "id": "qpqJxD_Kf1Wa",
    "outputId": "e4ac3a20-c291-40e9-ea48-aebdeed02e0a"
   },
   "outputs": [
    {
     "name": "stdout",
     "output_type": "stream",
     "text": [
      "maximum = 0.6715361536153616\n",
      "maximum π = 0.46384638463846384\n"
     ]
    },
    {
     "data": {
      "image/png": "[encoded data removed]",
      "text/plain": [
       "<Figure size 432x288 with 1 Axes>"
      ]
     },
     "metadata": {
      "needs_background": "light",
      "tags": []
     },
     "output_type": "display_data"
    }
   ],
   "source": [
    "x = np.linspace(0,1,10000)\n",
    "a1 = .1\n",
    "a2 = .15\n",
    "p1 = .05\n",
    "p2 = .02\n",
    "\n",
    "y = []\n",
    "for p in x:\n",
    "    H_Y_X = p * Entropy([1-a1-p1,a1,p1]) + (1-p) * Entropy([1-a2-p2,a2,p2])\n",
    "    Y_0 = p * (1 - a1 - p1) + (1 - p) * p2 \n",
    "    Y_1 = p * p1 + (1 - p) * (1 - a2 - p2) \n",
    "    Y_e = p * a1 + (1 - p) * a2\n",
    "    H_Y = Entropy([Y_0,Y_1,Y_e])    \n",
    "    \n",
    "    y.append(H_Y - H_Y_X)\n",
    "\n",
    "print(\"maximum =\",np.amax(y))\n",
    "print(\"maximum π =\",x[np.argmax(y)])\n",
    "plt.title(\"I(X;Y) for π in [0,1]\")\n",
    "plt.plot(x,y)\n",
    "# plt.scatter(x[np.argmax(y)],np.amax(y))\n",
    "plt.show()"
   ]
  },
  {
   "cell_type": "markdown",
   "metadata": {
    "id": "r3-yTLh26evg"
   },
   "source": [
    "# Άσκηση 3"
   ]
  },
  {
   "cell_type": "code",
   "execution_count": 14,
   "metadata": {
    "colab": {
     "base_uri": "https://localhost:8080/"
    },
    "id": "8B8iWuo5tSFf",
    "outputId": "400819a8-ab3d-4796-9ad5-ef0df8e08f29"
   },
   "outputs": [
    {
     "name": "stdout",
     "output_type": "stream",
     "text": [
      "[0.6956521739130435, 0.043478260869565216, 0.17391304347826086, 0.08695652173913043]\n",
      "[0.5   0.1   0.325 0.075]\n"
     ]
    }
   ],
   "source": [
    "probability_matrix = np.array([[.8,.1,.05,.05],[.05,.8,.05,.1],[.2,.1,.6,.1],[.1,.05,.05,.8]])\n",
    "print(list(probability_matrix[:,0] / sum(probability_matrix[:,0])))\n",
    "a = list(probability_matrix[:,0] / sum(probability_matrix[:,0]))\n",
    "Entropy(a)\n",
    "p = np.array([.5,0,.5,0])\n",
    "print(np.dot(p,probability_matrix))"
   ]
  },
  {
   "cell_type": "code",
   "execution_count": 45,
   "metadata": {
    "colab": {
     "base_uri": "https://localhost:8080/"
    },
    "id": "dSvgTsGoZndF",
    "outputId": "fa15c72c-133d-43d8-c843-344b2ac00d15"
   },
   "outputs": [
    {
     "name": "stdout",
     "output_type": "stream",
     "text": [
      "Best parameters for the optimization problem 0.2801639435908615 0.2801639435908615 0.15950816922742922 0.2801639435908615\n",
      "Uniform Capacity 0.82375\n",
      "Capacity 0.8354300150941274\n"
     ]
    }
   ],
   "source": [
    "import scipy\n",
    "from scipy.optimize import LinearConstraint\n",
    "\n",
    "def max_fun(p_x):\n",
    "    probability_matrix = np.array([[.8,.1,.05,.05],[.05,.8,.05,.1],[.2,.1,.6,.1],[.1,.05,.05,.8]])\n",
    "    p_y = np.dot(np.array(p_x),probability_matrix)\n",
    "    I_X_Y = 0\n",
    "    H_Y = Entropy(list(p_y))\n",
    "    H_Y_X = 0\n",
    "    for i in range(4):\n",
    "        H_Y_X += p_x[i] * Entropy(list(probability_matrix[i,:] / sum(probability_matrix[i,:])))\n",
    "    return -1 * (H_Y - H_Y_X)\n",
    "\n",
    "\n",
    "linear_constraint = LinearConstraint(np.ones(4), [1], [1])\n",
    "\n",
    "a = scipy.optimize.minimize(max_fun,[1/4,1/4,1/4,1/4],bounds=((0,1),(0,1),(0,1),(0,1)),constraints=linear_constraint)\n",
    "print(\"Best parameters for the optimization problem\",a.x[0],a.x[1],a.x[2],a.x[3],)\n",
    "\n",
    "Capacity = -1 * max_fun(a.x)\n",
    "print(\"Uniform Capacity\",-1 * max_fun([1/4,1/4,1/4,1/4]))\n",
    "print(\"Capacity\", Capacity)\n"
   ]
  }
 ],
 "metadata": {
  "colab": {
   "collapsed_sections": [],
   "name": "InformationTheory7.ipynb",
   "provenance": []
  },
  "kernelspec": {
   "display_name": "Python 3",
   "language": "python",
   "name": "python3"
  },
  "language_info": {
   "codemirror_mode": {
    "name": "ipython",
    "version": 3
   },
   "file_extension": ".py",
   "mimetype": "text/x-python",
   "name": "python",
   "nbconvert_exporter": "python",
   "pygments_lexer": "ipython3",
   "version": "3.7.6"
  }
 },
 "nbformat": 4,
 "nbformat_minor": 1
}
