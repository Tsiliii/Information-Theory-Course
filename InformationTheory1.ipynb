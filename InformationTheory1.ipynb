{
  "nbformat": 4,
  "nbformat_minor": 0,
  "metadata": {
    "colab": {
      "name": "InformationTheory1.ipynb",
      "provenance": [],
      "collapsed_sections": []
    },
    "kernelspec": {
      "name": "python3",
      "display_name": "Python 3"
    }
  },
  "cells": [
    {
      "cell_type": "markdown",
      "metadata": {
        "id": "sOac1KHs-xAj"
      },
      "source": [
        "# Help Code\n"
      ]
    },
    {
      "cell_type": "code",
      "metadata": {
        "id": "G7myOjkdoITz"
      },
      "source": [
        "import numpy as np\n",
        "from fractions import Fraction\n",
        "\n",
        "def Entropy(probs):\n",
        "  entropy = 0\n",
        "  for i in range(len(probs)):\n",
        "      if probs[i] != 0:\n",
        "          entropy -= probs[i] * np.log2(probs[i])\n",
        "  return round(entropy,3)\n",
        "\n",
        "def KL_distance(Pprobs,Qprobs):\n",
        "  distance = 0\n",
        "  for i in range(len(Pprobs)):\n",
        "      if Pprobs[i] != 0:\n",
        "          distance += Pprobs[i] * np.log2(Pprobs[i] / Qprobs[i])\n",
        "  return round(distance,3)\n",
        "  \n"
      ],
      "execution_count": null,
      "outputs": []
    },
    {
      "cell_type": "markdown",
      "metadata": {
        "id": "0Iu7Bfry-za_"
      },
      "source": [
        "# Exc1"
      ]
    },
    {
      "cell_type": "code",
      "metadata": {
        "id": "skmcbbx0yKx7",
        "colab": {
          "base_uri": "https://localhost:8080/"
        },
        "outputId": "11acb06b-cc56-4b33-c05d-b45093a7037a"
      },
      "source": [
        "Excs1_1 = [1/8,1/2,1/8,1/24,1/24,1/24,1/8]\n",
        "Excs1_2 = [1/8,13/24,1/6,1/24,1/8]\n",
        "Excs1_3 = Excs1_1\n",
        "print(Entropy(Excs1_1))\n",
        "print(Entropy(Excs1_2))\n",
        "print(Entropy(Excs1_3))"
      ],
      "execution_count": null,
      "outputs": [
        {
          "output_type": "stream",
          "text": [
            "0.9999999999999999\n",
            "2.198\n",
            "1.851\n",
            "2.198\n"
          ],
          "name": "stdout"
        }
      ]
    },
    {
      "cell_type": "markdown",
      "metadata": {
        "id": "33rPH9bM-3K9"
      },
      "source": [
        "# Exc2\n"
      ]
    },
    {
      "cell_type": "code",
      "metadata": {
        "id": "O0spTQG_yovD",
        "colab": {
          "base_uri": "https://localhost:8080/"
        },
        "outputId": "d0906821-d65c-4a41-cd8a-3f90a3d14652"
      },
      "source": [
        "Excs2_1 = [.2,.02,.13,.2,.05,.2,.15,.01,.04]\n",
        "print(\"H(X,Y) =\", Entropy(Excs2_1))\n",
        "Excs2_2_a = [.35,.45,.2]\n",
        "print(\"H(X) =\",Entropy(Excs2_2_a))\n",
        "Excs2_2_b = [.55,.08,.37]\n",
        "print(\"H(Y) =\",Entropy(Excs2_2_b))\n",
        "print(\"H(X|Y) = H(X,Y) - H(Y) =\", Entropy(Excs2_1) - Entropy(Excs2_2_b))\n",
        "print(\"H(Y|X) = H(X,Y) - H(X) =\", Entropy(Excs2_1) - Entropy(Excs2_2_a))\n",
        "Excs2_4_a = [.2/.55,.2/.55,.15/.55]\n",
        "Excs2_4_b = [.02/.08,.05/.08,.01/.08]\n",
        "Excs2_4_c = [.13/.37,.2/.37,.04/.37]\n",
        "print(\"H(X|Y=1) =\", Entropy(Excs2_4_a))\n",
        "print(\"H(X|Y=2) =\", Entropy(Excs2_4_b))\n",
        "print(\"H(X|Y=3) =\", Entropy(Excs2_4_c))\n",
        "print(\"I(Y;X) =\",Entropy(Excs2_2_b) - (Entropy(Excs2_1) - Entropy(Excs2_2_a)))\n",
        "print(\"D(x||y) =\",KL_distance(Excs2_2_a,Excs2_2_b))\n",
        "print(\"D(y||x) =\",KL_distance(Excs2_2_b,Excs2_2_a))\n",
        "print(\"I(X;Y) =\",Entropy(Excs2_2_a) - (Entropy(Excs2_1) - Entropy(Excs2_2_b)))"
      ],
      "execution_count": null,
      "outputs": [
        {
          "output_type": "stream",
          "text": [
            "H(X,Y) = 2.768\n",
            "H(X) = 1.513\n",
            "H(Y) = 1.297\n",
            "H(X|Y) = H(X,Y) - H(Y) = 1.4709999999999999\n",
            "H(Y|X) = H(X,Y) - H(X) = 1.255\n",
            "H(X|Y=1) = 1.573\n",
            "H(X|Y=2) = 1.299\n",
            "H(X|Y=3) = 1.357\n",
            "I(Y;X) = 0.04200000000000004\n",
            "D(x||y) = 0.716\n",
            "D(y||x) = 0.488\n",
            "I(X;Y) = 0.04200000000000004\n"
          ],
          "name": "stdout"
        }
      ]
    },
    {
      "cell_type": "markdown",
      "metadata": {
        "id": "cW1j_vwG-8BL"
      },
      "source": [
        "# Exc3"
      ]
    },
    {
      "cell_type": "code",
      "metadata": {
        "id": "Ld7k52rdSCAv",
        "colab": {
          "base_uri": "https://localhost:8080/"
        },
        "outputId": "993fb674-2cc5-4821-8a41-a88006b77859"
      },
      "source": [
        "# Positive Example\n",
        "\n",
        "ΧΥΖ = [1/3,1/3,1/3]\n",
        "ΧΥ = [1/3,1/3,1/3]\n",
        "XZ = [1/3,1/3,1/3]\n",
        "ΥΖ = [1/3,1/3,1/3]\n",
        "Χ = [2/3,1/3]\n",
        "Υ = [2/3,1/3]\n",
        "Ζ = [2/3,1/3]\n",
        "print(Entropy(ΧΥΖ))\n",
        "print(Entropy(ΧΥ))\n",
        "print(Entropy(XZ))\n",
        "print(Entropy(ΥΖ))\n",
        "print(Entropy(Χ))\n",
        "print(Entropy(Υ))\n",
        "print(Entropy(Ζ))\n",
        "print(\"Answer =\",- Entropy(ΧΥΖ) + Entropy(ΧΥ) + Entropy(XZ) + Entropy(ΥΖ) - Entropy(Χ) - Entropy(Υ) - Entropy(Ζ))\n"
      ],
      "execution_count": null,
      "outputs": [
        {
          "output_type": "stream",
          "text": [
            "1.585\n",
            "1.585\n",
            "1.585\n",
            "1.585\n",
            "0.918\n",
            "0.918\n",
            "0.918\n",
            "Answer = 0.4159999999999996\n"
          ],
          "name": "stdout"
        }
      ]
    },
    {
      "cell_type": "code",
      "metadata": {
        "id": "FlEvwX0Zzh25",
        "colab": {
          "base_uri": "https://localhost:8080/"
        },
        "outputId": "30cf7b12-c34a-4818-d157-2d74d8c64331"
      },
      "source": [
        "# Negative Example\n",
        "\n",
        "ΧΥΖ = [1/4,1/2,1/4]\n",
        "ΧΥ = [1/4,1/2,1/4]\n",
        "XZ = [3/4,1/4]\n",
        "ΥZ = [1/4,1/2,1/4]\n",
        "Χ = [3/4,1/4]\n",
        "Υ = [1/2,1/2]\n",
        "Z = [3/4,1/4]\n",
        "\n",
        "print(Entropy(ΧΥΖ))\n",
        "print(Entropy(ΧΥ))\n",
        "print(Entropy(XZ))\n",
        "print(Entropy(ΥZ))\n",
        "print(Entropy(Χ))\n",
        "print(Entropy(Υ))\n",
        "print(Entropy(Z))\n",
        "print(\"Answer =\",- Entropy(ΧΥΖ) + Entropy(ΧΥ) + Entropy(XZ) + Entropy(ΥZ) - Entropy(Χ) - Entropy(Υ) - Entropy(Z))"
      ],
      "execution_count": null,
      "outputs": [
        {
          "output_type": "stream",
          "text": [
            "1.5\n",
            "1.5\n",
            "0.811\n",
            "1.5\n",
            "0.811\n",
            "1.0\n",
            "0.811\n",
            "Answer = -0.31100000000000005\n"
          ],
          "name": "stdout"
        }
      ]
    },
    {
      "cell_type": "code",
      "metadata": {
        "id": "TYQ6NpDZyMvF",
        "colab": {
          "base_uri": "https://localhost:8080/"
        },
        "outputId": "d844ac7b-7159-4bd6-a039-c562c7f9edeb"
      },
      "source": [
        "np.random.choice([0,1])"
      ],
      "execution_count": null,
      "outputs": [
        {
          "output_type": "execute_result",
          "data": {
            "text/plain": [
              "1"
            ]
          },
          "metadata": {
            "tags": []
          },
          "execution_count": 32
        }
      ]
    },
    {
      "cell_type": "code",
      "metadata": {
        "id": "obGLAva9zrBA"
      },
      "source": [
        ""
      ],
      "execution_count": null,
      "outputs": []
    }
  ]
}