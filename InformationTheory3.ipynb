{
  "nbformat": 4,
  "nbformat_minor": 0,
  "metadata": {
    "colab": {
      "name": "InformationTheory3.ipynb",
      "provenance": [],
      "collapsed_sections": [],
      "toc_visible": true
    },
    "kernelspec": {
      "name": "python3",
      "display_name": "Python 3"
    }
  },
  "cells": [
    {
      "cell_type": "markdown",
      "metadata": {
        "id": "K2wUnQtQe5Cb"
      },
      "source": [
        "# Help Code"
      ]
    },
    {
      "cell_type": "code",
      "metadata": {
        "id": "DXt8l_MtZJyI"
      },
      "source": [
        "import numpy as np\n",
        "from scipy.special import comb\n",
        "\n",
        "def Entropy(probs):\n",
        "  entropy = 0\n",
        "  for i in range(len(probs)):\n",
        "      if probs[i] != 0:\n",
        "          entropy -= probs[i] * np.log2(probs[i])\n",
        "  return round(entropy,3)\n",
        "\n",
        "def KL_distance(Pprobs,Qprobs):\n",
        "  distance = 0\n",
        "  if 0 in Qprobs:\n",
        "      return float('inf')\n",
        "  for i in range(len(Pprobs)):\n",
        "      if Pprobs[i] != 0:\n",
        "          distance += Pprobs[i] * np.log2(Pprobs[i] / Qprobs[i])\n",
        "  return round(distance,3)\n",
        "  \n"
      ],
      "execution_count": 40,
      "outputs": []
    },
    {
      "cell_type": "markdown",
      "metadata": {
        "id": "BODtJpZRe00R"
      },
      "source": [
        "# Άσκηση 1\n",
        "\n"
      ]
    },
    {
      "cell_type": "code",
      "metadata": {
        "id": "GlUc4ZPka_dz",
        "colab": {
          "base_uri": "https://localhost:8080/"
        },
        "outputId": "35e844dd-222e-4cd7-96c4-c423101a1c3b"
      },
      "source": [
        "print(Entropy([1/4,3/4]))\n",
        "temp1 = -1000 * (Entropy([1/4,3/4]) + 1/20)\n",
        "temp2 = -1000 * (Entropy([1/4,3/4]) - 1/20)\n",
        "downlimit = 2 ** temp1\n",
        "uplimit = 2 ** temp2\n",
        "print(downlimit)\n",
        "print(uplimit)"
      ],
      "execution_count": 41,
      "outputs": [
        {
          "output_type": "stream",
          "text": [
            "0.811\n",
            "6.5038981747804166e-260\n",
            "8.244670425084331e-230\n"
          ],
          "name": "stdout"
        }
      ]
    },
    {
      "cell_type": "code",
      "metadata": {
        "id": "dtBMnqD8bDYH",
        "colab": {
          "base_uri": "https://localhost:8080/"
        },
        "outputId": "a6289ebe-85dc-4ba2-e2fa-7af3b8a9ea3d"
      },
      "source": [
        "lower = 1000\n",
        "upper = 0\n",
        "for i in range(1001):\n",
        "    probability = (1/4) ** i * (3/4) ** (1000 - i)\n",
        "    if probability < uplimit and probability > downlimit:\n",
        "        lower = min(i,lower)\n",
        "        upper = max(i,upper)\n",
        "print(\"Lower limit max limit =\",lower,upper)\n"
      ],
      "execution_count": 42,
      "outputs": [
        {
          "output_type": "stream",
          "text": [
            "Lower limit max limit = 219 281\n"
          ],
          "name": "stdout"
        }
      ]
    },
    {
      "cell_type": "code",
      "metadata": {
        "colab": {
          "base_uri": "https://localhost:8080/"
        },
        "id": "Pyx5Y3WLcWUr",
        "outputId": "9ca04e2e-9d51-4a31-bf22-ca0f4a8e1942"
      },
      "source": [
        "Ae = 0\n",
        "for i in range(219,282):\n",
        "    Ae += comb(1000,i) * (1/4) ** i * (3/4) ** (1000 - i)\n",
        "print(Ae)\n",
        "card_Ae = 0\n",
        "for i in range(219,282):\n",
        "    card_Ae += comb(1000,i)\n",
        "print(\"cardinality / 2 ^ 1000 \",card_Ae / (2 ** (1000)))\n"
      ],
      "execution_count": 43,
      "outputs": [
        {
          "output_type": "stream",
          "text": [
            "0.978637583359097\n",
            "3.609989227372924e-45\n"
          ],
          "name": "stdout"
        }
      ]
    },
    {
      "cell_type": "code",
      "metadata": {
        "colab": {
          "base_uri": "https://localhost:8080/"
        },
        "id": "SASfkI4dc2_w",
        "outputId": "20c85711-74ad-4ba9-aa40-8ab3477aee79"
      },
      "source": [
        "Bd = 0\n",
        "card_Bd = 0\n",
        "for i in range(1000):\n",
        "    Bd += comb(1000,i) * (3/4) ** i * (1/4) ** (1000 - i)\n",
        "    card_Bd += comb(1000,i)\n",
        "    if (Bd > Ae):\n",
        "        card_Bd -= comb(1000,i)\n",
        "        break\n",
        "\n",
        "print(\"Ratio = \",card_Ae / card_Bd)\n",
        "\n",
        "\n",
        "# print(comb(1000,i))\n",
        "# print((2 ** 1000) / card_Bd)\n",
        "# print(card_Bd/ (2 ** (1000)))\n"
      ],
      "execution_count": 52,
      "outputs": [
        {
          "output_type": "stream",
          "text": [
            "Ratio =  3.609989227371249e-45\n"
          ],
          "name": "stdout"
        }
      ]
    },
    {
      "cell_type": "markdown",
      "metadata": {
        "id": "5L5eN6wdSzKW"
      },
      "source": [
        "# Άσκηση 2\n",
        "\n",
        "\n",
        "\n",
        "\n"
      ]
    },
    {
      "cell_type": "code",
      "metadata": {
        "colab": {
          "base_uri": "https://localhost:8080/"
        },
        "id": "44mZOliKS11W",
        "outputId": "aa834261-5acc-4b8b-fb73-48e8ec152aca"
      },
      "source": [
        "m = 20\n",
        "s = 4\n",
        "print(m-2*s,m+2*s)\n",
        "values = 0\n",
        "for i in range(12,29):\n",
        "    values += comb(100,i)\n",
        "\n",
        "print(\"Strings between 12 and 28 '1' = \",values)\n",
        "print(Entropy([1/5,4/5]))"
      ],
      "execution_count": 55,
      "outputs": [
        {
          "output_type": "stream",
          "text": [
            "12 28\n",
            "Strings between 12 and 28 '1' =  7.972983534340897e+24\n",
            "0.722\n"
          ],
          "name": "stdout"
        }
      ]
    },
    {
      "cell_type": "code",
      "metadata": {
        "colab": {
          "base_uri": "https://localhost:8080/"
        },
        "id": "35tgMkVPTmKj",
        "outputId": "7a7a2db0-3000-40fe-bdc2-56160020ebb4"
      },
      "source": [
        "probability = 0\n",
        "for i in range(12,29):\n",
        "    probability += comb(100,i) * (1/5) ** i * (4/5) ** (100-i)\n",
        "print(\"Probability of not being in μ-2σ , μ+2σ =\",1-probability)"
      ],
      "execution_count": 56,
      "outputs": [
        {
          "output_type": "stream",
          "text": [
            "Probability of not being in μ-2σ , μ+2σ = 0.03259508308028902\n"
          ],
          "name": "stdout"
        }
      ]
    }
  ]
}